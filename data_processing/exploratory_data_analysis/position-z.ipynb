{
 "cells": [
  {
   "cell_type": "code",
   "execution_count": 13,
   "id": "initial_id",
   "metadata": {},
   "outputs": [
    {
     "name": "stderr",
     "output_type": "stream",
     "text": [
      "C:\\Users\\runeb\\AppData\\Local\\Temp\\ipykernel_11844\\2540488844.py:6: DtypeWarning: Columns (24) have mixed types. Specify dtype option on import or set low_memory=False.\n",
      "  return pd.read_csv(file_path)\n"
     ]
    },
    {
     "data": {
      "text/html": [
       "<div>\n",
       "<style scoped>\n",
       "    .dataframe tbody tr th:only-of-type {\n",
       "        vertical-align: middle;\n",
       "    }\n",
       "\n",
       "    .dataframe tbody tr th {\n",
       "        vertical-align: top;\n",
       "    }\n",
       "\n",
       "    .dataframe thead th {\n",
       "        text-align: right;\n",
       "    }\n",
       "</style>\n",
       "<table border=\"1\" class=\"dataframe\">\n",
       "  <thead>\n",
       "    <tr style=\"text-align: right;\">\n",
       "      <th></th>\n",
       "      <th>flight</th>\n",
       "      <th>time</th>\n",
       "      <th>wind_speed</th>\n",
       "      <th>wind_angle</th>\n",
       "      <th>battery_voltage</th>\n",
       "      <th>battery_current</th>\n",
       "      <th>position_x</th>\n",
       "      <th>position_y</th>\n",
       "      <th>position_z</th>\n",
       "      <th>orientation_x</th>\n",
       "      <th>...</th>\n",
       "      <th>angular_z</th>\n",
       "      <th>linear_acceleration_x</th>\n",
       "      <th>linear_acceleration_y</th>\n",
       "      <th>linear_acceleration_z</th>\n",
       "      <th>speed</th>\n",
       "      <th>payload</th>\n",
       "      <th>altitude</th>\n",
       "      <th>date</th>\n",
       "      <th>time_day</th>\n",
       "      <th>route</th>\n",
       "    </tr>\n",
       "  </thead>\n",
       "  <tbody>\n",
       "    <tr>\n",
       "      <th>0</th>\n",
       "      <td>1</td>\n",
       "      <td>0.0</td>\n",
       "      <td>0.1</td>\n",
       "      <td>12.0</td>\n",
       "      <td>24.222174</td>\n",
       "      <td>0.087470</td>\n",
       "      <td>-79.782396</td>\n",
       "      <td>40.458047</td>\n",
       "      <td>269.332402</td>\n",
       "      <td>0.001772</td>\n",
       "      <td>...</td>\n",
       "      <td>0.006815</td>\n",
       "      <td>0.004258</td>\n",
       "      <td>-0.120405</td>\n",
       "      <td>-9.811137</td>\n",
       "      <td>4.0</td>\n",
       "      <td>0.0</td>\n",
       "      <td>25</td>\n",
       "      <td>2019-04-07</td>\n",
       "      <td>10:13</td>\n",
       "      <td>R5</td>\n",
       "    </tr>\n",
       "    <tr>\n",
       "      <th>1</th>\n",
       "      <td>1</td>\n",
       "      <td>0.2</td>\n",
       "      <td>0.1</td>\n",
       "      <td>3.0</td>\n",
       "      <td>24.227180</td>\n",
       "      <td>0.095421</td>\n",
       "      <td>-79.782396</td>\n",
       "      <td>40.458047</td>\n",
       "      <td>269.332056</td>\n",
       "      <td>0.001768</td>\n",
       "      <td>...</td>\n",
       "      <td>0.002034</td>\n",
       "      <td>0.006175</td>\n",
       "      <td>-0.116397</td>\n",
       "      <td>-9.810392</td>\n",
       "      <td>4.0</td>\n",
       "      <td>0.0</td>\n",
       "      <td>25</td>\n",
       "      <td>2019-04-07</td>\n",
       "      <td>10:13</td>\n",
       "      <td>R5</td>\n",
       "    </tr>\n",
       "    <tr>\n",
       "      <th>2</th>\n",
       "      <td>1</td>\n",
       "      <td>0.3</td>\n",
       "      <td>0.1</td>\n",
       "      <td>352.0</td>\n",
       "      <td>24.225929</td>\n",
       "      <td>0.095421</td>\n",
       "      <td>-79.782396</td>\n",
       "      <td>40.458047</td>\n",
       "      <td>269.333081</td>\n",
       "      <td>0.001768</td>\n",
       "      <td>...</td>\n",
       "      <td>-0.000874</td>\n",
       "      <td>0.002696</td>\n",
       "      <td>-0.128592</td>\n",
       "      <td>-9.809440</td>\n",
       "      <td>4.0</td>\n",
       "      <td>0.0</td>\n",
       "      <td>25</td>\n",
       "      <td>2019-04-07</td>\n",
       "      <td>10:13</td>\n",
       "      <td>R5</td>\n",
       "    </tr>\n",
       "    <tr>\n",
       "      <th>3</th>\n",
       "      <td>1</td>\n",
       "      <td>0.5</td>\n",
       "      <td>0.1</td>\n",
       "      <td>354.0</td>\n",
       "      <td>24.224678</td>\n",
       "      <td>0.095421</td>\n",
       "      <td>-79.782396</td>\n",
       "      <td>40.458047</td>\n",
       "      <td>269.334648</td>\n",
       "      <td>0.001775</td>\n",
       "      <td>...</td>\n",
       "      <td>0.002443</td>\n",
       "      <td>0.002024</td>\n",
       "      <td>-0.128271</td>\n",
       "      <td>-9.810159</td>\n",
       "      <td>4.0</td>\n",
       "      <td>0.0</td>\n",
       "      <td>25</td>\n",
       "      <td>2019-04-07</td>\n",
       "      <td>10:13</td>\n",
       "      <td>R5</td>\n",
       "    </tr>\n",
       "    <tr>\n",
       "      <th>4</th>\n",
       "      <td>1</td>\n",
       "      <td>0.6</td>\n",
       "      <td>0.1</td>\n",
       "      <td>359.0</td>\n",
       "      <td>24.210905</td>\n",
       "      <td>0.079518</td>\n",
       "      <td>-79.782396</td>\n",
       "      <td>40.458047</td>\n",
       "      <td>269.336178</td>\n",
       "      <td>0.001775</td>\n",
       "      <td>...</td>\n",
       "      <td>-0.006425</td>\n",
       "      <td>0.008271</td>\n",
       "      <td>-0.119890</td>\n",
       "      <td>-9.812125</td>\n",
       "      <td>4.0</td>\n",
       "      <td>0.0</td>\n",
       "      <td>25</td>\n",
       "      <td>2019-04-07</td>\n",
       "      <td>10:13</td>\n",
       "      <td>R5</td>\n",
       "    </tr>\n",
       "  </tbody>\n",
       "</table>\n",
       "<p>5 rows × 28 columns</p>\n",
       "</div>"
      ],
      "text/plain": [
       "   flight  time  wind_speed  wind_angle  battery_voltage  battery_current  \\\n",
       "0       1   0.0         0.1        12.0        24.222174         0.087470   \n",
       "1       1   0.2         0.1         3.0        24.227180         0.095421   \n",
       "2       1   0.3         0.1       352.0        24.225929         0.095421   \n",
       "3       1   0.5         0.1       354.0        24.224678         0.095421   \n",
       "4       1   0.6         0.1       359.0        24.210905         0.079518   \n",
       "\n",
       "   position_x  position_y  position_z  orientation_x  ...  angular_z  \\\n",
       "0  -79.782396   40.458047  269.332402       0.001772  ...   0.006815   \n",
       "1  -79.782396   40.458047  269.332056       0.001768  ...   0.002034   \n",
       "2  -79.782396   40.458047  269.333081       0.001768  ...  -0.000874   \n",
       "3  -79.782396   40.458047  269.334648       0.001775  ...   0.002443   \n",
       "4  -79.782396   40.458047  269.336178       0.001775  ...  -0.006425   \n",
       "\n",
       "   linear_acceleration_x  linear_acceleration_y  linear_acceleration_z  speed  \\\n",
       "0               0.004258              -0.120405              -9.811137    4.0   \n",
       "1               0.006175              -0.116397              -9.810392    4.0   \n",
       "2               0.002696              -0.128592              -9.809440    4.0   \n",
       "3               0.002024              -0.128271              -9.810159    4.0   \n",
       "4               0.008271              -0.119890              -9.812125    4.0   \n",
       "\n",
       "   payload  altitude        date  time_day  route  \n",
       "0      0.0        25  2019-04-07     10:13     R5  \n",
       "1      0.0        25  2019-04-07     10:13     R5  \n",
       "2      0.0        25  2019-04-07     10:13     R5  \n",
       "3      0.0        25  2019-04-07     10:13     R5  \n",
       "4      0.0        25  2019-04-07     10:13     R5  \n",
       "\n",
       "[5 rows x 28 columns]"
      ]
     },
     "execution_count": 13,
     "metadata": {},
     "output_type": "execute_result"
    }
   ],
   "source": [
    "import pandas as pd\n",
    "import matplotlib.pyplot as \n",
    "import numpy as np\n",
    "\n",
    "\n",
    "def read_csv(file_path):\n",
    "    return pd.read_csv(file_path)\n",
    "\n",
    "file_path = '../../data/datasets/rodrigues/flights.csv'\n",
    "\n",
    "#df means data frame\n",
    "df = read_csv(file_path)\n",
    "\n",
    "df.head()"
   ]
  },
  {
   "cell_type": "code",
   "execution_count": 12,
   "id": "fa96dfe3-4230-46c2-b364-5420596f0b36",
   "metadata": {},
   "outputs": [
    {
     "data": {
      "image/png": "[encoded data removed]",
      "text/plain": [
       "<Figure size 1200x800 with 1 Axes>"
      ]
     },
     "metadata": {},
     "output_type": "display_data"
    }
   ],
   "source": [
    "flight_one_data = df[df['flight'] == 2]\n",
    "\n",
    "# Plotting the graph for position-z during all its time rows\n",
    "plt.figure(figsize=(12, 8))\n",
    "plt.plot(flight_one_data['time'], flight_one_data['position_z'], marker='o', linestyle='-', color='green')\n",
    "\n",
    "# Set labels and title\n",
    "plt.xlabel('Time')\n",
    "plt.ylabel('Position-z')\n",
    "plt.title('Flight One - Position-z Over Time')\n",
    "\n",
    "# Display the graph\n",
    "plt.show()"
   ]
  },
  {
   "cell_type": "code",
   "execution_count": 41,
   "id": "1d64db80-6611-40bd-85de-2dd3c3a4034c",
   "metadata": {},
   "outputs": [
    {
     "data": {
      "image/png": "[encoded data removed]",
      "text/plain": [
       "<Figure size 1000x600 with 1 Axes>"
      ]
     },
     "metadata": {},
     "output_type": "display_data"
    }
   ],
   "source": [
    "# Find the highest position-z for each flight\n",
    "max_position_z_per_flight = df.groupby('flight')['position_z'].max()\n",
    "\n",
    "# Visualize the distribution of the highest position-z values\n",
    "plt.figure(figsize=(10, 6))\n",
    "plt.hist(max_position_z_per_flight, bins=20, color='skyblue', edgecolor='black')\n",
    "plt.xlabel('Max Position-z per Flight')\n",
    "plt.ylabel('Frequency')\n",
    "plt.title('Distribution of Max Position-z per Flight')\n",
    "plt.show()"
   ]
  },
  {
   "cell_type": "code",
   "execution_count": 23,
   "id": "1177479c-9c91-43ec-bb9e-2cae6b5f55be",
   "metadata": {},
   "outputs": [
    {
     "name": "stdout",
     "output_type": "stream",
     "text": [
      "Flights with Position-z equal to 0:\n",
      "        flight  position_z altitude\n",
      "184411     211         0.0        0\n",
      "184412     211         0.0        0\n",
      "184413     211         0.0        0\n",
      "184414     211         0.0        0\n",
      "184415     211         0.0        0\n",
      "...        ...         ...      ...\n",
      "190907     219         0.0        0\n",
      "190908     219         0.0        0\n",
      "190909     219         0.0        0\n",
      "190910     219         0.0        0\n",
      "190911     219         0.0        0\n",
      "\n",
      "[6501 rows x 3 columns]\n"
     ]
    }
   ],
   "source": [
    "# Assuming df is your DataFrame containing 'flight', 'position-z', and 'altitude' columns\n",
    "flights_with_position_z_0 = df[df['position_z'] == 0][['flight', 'position_z', 'altitude']]\n",
    "\n",
    "# Display the flights where position_z is 0\n",
    "print(\"Flights with Position-z equal to 0:\")\n",
    "print(flights_with_position_z_0)\n"
   ]
  },
  {
   "cell_type": "code",
   "execution_count": 24,
   "id": "d4b58595-a1f7-43a6-8c0f-823aee1b97d1",
   "metadata": {},
   "outputs": [
    {
     "name": "stdout",
     "output_type": "stream",
     "text": [
      "Flights with Position-z equal to 0:\n",
      "        flight  position_z altitude\n",
      "190912     221  252.393865        3\n",
      "190913     221  252.418194        3\n",
      "190914     221  252.471001        3\n",
      "190915     221  252.517002        3\n",
      "190916     221  252.605534        3\n",
      "...        ...         ...      ...\n",
      "194701     224  244.170503        3\n",
      "194702     224  244.149070        3\n",
      "194703     224  244.126043        3\n",
      "194704     224  244.125290        3\n",
      "194705     224  244.104011        3\n",
      "\n",
      "[3794 rows x 3 columns]\n"
     ]
    }
   ],
   "source": [
    "# Assuming df is your DataFrame containing 'flight', 'position-z', and 'altitude' columns\n",
    "flights_with_position_z_0 = df[df['altitude'] == 3][['flight', 'position_z', 'altitude']]\n",
    "\n",
    "# Display the flights where position_z is 0\n",
    "print(\"Flights with Position-z equal to 0:\")\n",
    "print(flights_with_position_z_0)\n"
   ]
  },
  {
   "cell_type": "code",
   "execution_count": 30,
   "id": "229f683c-658d-4618-83bc-0e11ae34e704",
   "metadata": {},
   "outputs": [
    {
     "name": "stdout",
     "output_type": "stream",
     "text": [
      "Flights with Position-z equal to 0:\n",
      "        flight  position_z      altitude\n",
      "256908     279  273.378145  25-50-100-25\n",
      "256909     279  273.379896  25-50-100-25\n",
      "256910     279  273.377731  25-50-100-25\n",
      "256911     279  273.373376  25-50-100-25\n",
      "256912     279  273.377094  25-50-100-25\n",
      "...        ...         ...           ...\n",
      "257891     279  271.560190  25-50-100-25\n",
      "257892     279  271.571983  25-50-100-25\n",
      "257893     279  271.584533  25-50-100-25\n",
      "257894     279  271.588050  25-50-100-25\n",
      "257895     279  271.600637  25-50-100-25\n",
      "\n",
      "[988 rows x 3 columns]\n"
     ]
    }
   ],
   "source": [
    "# Assuming df is your DataFrame containing 'flight', 'position-z', and 'altitude' columns\n",
    "flights_with_position_z_0 = df[df['flight'] == 279][['flight', 'position_z', 'altitude']]\n",
    "\n",
    "# Display the flights where position_z is 0\n",
    "print(\"Flights with Position-z equal to 0:\")\n",
    "print(flights_with_position_z_0)"
   ]
  },
  {
   "cell_type": "code",
   "execution_count": 52,
   "id": "eaa0ace0-a912-446d-8929-f0fa840009ab",
   "metadata": {},
   "outputs": [
    {
     "data": {
      "text/plain": [
       "count    200.000000\n",
       "mean     329.556501\n",
       "std       30.527614\n",
       "min      248.568026\n",
       "25%      298.489791\n",
       "50%      322.914618\n",
       "75%      349.666011\n",
       "max      376.188721\n",
       "Name: position_z, dtype: float64"
      ]
     },
     "execution_count": 52,
     "metadata": {},
     "output_type": "execute_result"
    }
   ],
   "source": [
    "# Exclude flights with max position_z of 0\n",
    "valid_flights = max_position_z_per_flight[max_position_z_per_flight != 0]\n",
    "valid_flights.describe()\n"
   ]
  },
  {
   "cell_type": "code",
   "execution_count": 53,
   "id": "24bb6f38-b696-4ec3-9900-cfcc645fa0ab",
   "metadata": {},
   "outputs": [
    {
     "data": {
      "text/plain": [
       "count    196.000000\n",
       "mean     331.149560\n",
       "std       28.694403\n",
       "min      289.504632\n",
       "25%      299.115804\n",
       "50%      323.808264\n",
       "75%      350.293909\n",
       "max      376.188721\n",
       "Name: position_z, dtype: float64"
      ]
     },
     "execution_count": 53,
     "metadata": {},
     "output_type": "execute_result"
    }
   ],
   "source": [
    "valid_flights2 = max_position_z_per_flight[max_position_z_per_flight >= 255]\n",
    "valid_flights2.describe()"
   ]
  },
  {
   "cell_type": "code",
   "execution_count": null,
   "id": "405848fa-ab8e-439a-8ab3-1bc2a63d399f",
   "metadata": {},
   "outputs": [],
   "source": []
  },
  {
   "cell_type": "code",
   "execution_count": null,
   "id": "72b87f7e-becb-48d2-80f3-1a6e909a1653",
   "metadata": {},
   "outputs": [],
   "source": []
  }
 ],
 "metadata": {
  "kernelspec": {
   "display_name": "Python 3 (ipykernel)",
   "language": "python",
   "name": "python3"
  },
  "language_info": {
   "codemirror_mode": {
    "name": "ipython",
    "version": 3
   },
   "file_extension": ".py",
   "mimetype": "text/x-python",
   "name": "python",
   "nbconvert_exporter": "python",
   "pygments_lexer": "ipython3",
   "version": "3.11.8"
  }
 },
 "nbformat": 4,
 "nbformat_minor": 5
}
